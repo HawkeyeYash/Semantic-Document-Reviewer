{
 "cells": [
  {
   "cell_type": "code",
   "execution_count": 54,
   "id": "cdb623fc",
   "metadata": {},
   "outputs": [
    {
     "data": {
      "text/plain": [
       "True"
      ]
     },
     "execution_count": 54,
     "metadata": {},
     "output_type": "execute_result"
    }
   ],
   "source": [
    "import os\n",
    "import faiss\n",
    "import pdfplumber\n",
    "\n",
    "from llama_index.core import VectorStoreIndex, Document\n",
    "from llama_index.vector_stores.faiss import FaissVectorStore\n",
    "from llama_index.embeddings.huggingface import HuggingFaceEmbedding\n",
    "from llama_index.llms.groq import Groq\n",
    "from llama_index.core.node_parser import SentenceSplitter\n",
    "\n",
    "import warnings\n",
    "warnings.filterwarnings(\"ignore\", category=UserWarning)\n",
    "\n",
    "from dotenv import load_dotenv\n",
    "load_dotenv()"
   ]
  },
  {
   "cell_type": "code",
   "execution_count": 55,
   "id": "4fb1a39b",
   "metadata": {},
   "outputs": [],
   "source": [
    "os.environ[\"GROQ_API_KEY\"] = os.getenv(\"GROQ_API_KEY\")"
   ]
  },
  {
   "cell_type": "code",
   "execution_count": 56,
   "id": "9e1648e8",
   "metadata": {},
   "outputs": [],
   "source": [
    "template_sections = [\n",
    "    {\n",
    "        \"title\": \"Summary\",\n",
    "        \"instruction\": \"Summarize the business goals, scope, and high-level outcomes of the proposed system.\"\n",
    "    },\n",
    "    {\n",
    "        \"title\": \"Functional Requirements\",\n",
    "        \"instruction\": \"Detail the main features and capabilities the system must deliver from the user's perspective.\"\n",
    "    },\n",
    "    {\n",
    "        \"title\": \"Technical Architecture\",\n",
    "        \"instruction\": \"Provide an overview of the system's technical design including components and their interactions.\"\n",
    "    }\n",
    "]\n",
    "\n",
    "template_docs = [Document(text=s[\"instruction\"], metadata={\"title\": s[\"title\"]})\n",
    "                 for s in template_sections]"
   ]
  },
  {
   "cell_type": "code",
   "execution_count": 57,
   "id": "496d64e4",
   "metadata": {},
   "outputs": [],
   "source": [
    "embed_model = HuggingFaceEmbedding(model_name=\"sentence-transformers/all-MiniLM-L6-v2\")\n",
    "nodes = SentenceSplitter().get_nodes_from_documents(template_docs)\n",
    "\n",
    "faiss_index = faiss.IndexFlatL2(384)\n",
    "vector_store = FaissVectorStore(faiss_index=faiss_index)\n",
    "index = VectorStoreIndex(nodes, vector_store=vector_store, embed_model=embed_model)\n",
    "retriever = index.as_retriever(similarity_top_k=1)\n"
   ]
  },
  {
   "cell_type": "code",
   "execution_count": 58,
   "id": "e88667b7",
   "metadata": {},
   "outputs": [],
   "source": [
    "def extract_sections_from_pdf(pdf_path):\n",
    "    content = \"\"\n",
    "    with pdfplumber.open(pdf_path) as pdf:\n",
    "        for page in pdf.pages:\n",
    "            text = page.extract_text()\n",
    "            if text:\n",
    "                content += text + \"\\n\"\n",
    "    sections = [s.strip() for s in content.split(\"\\n\\n\") if len(s.strip()) > 50]\n",
    "    return sections"
   ]
  },
  {
   "cell_type": "code",
   "execution_count": 59,
   "id": "753cc156",
   "metadata": {},
   "outputs": [],
   "source": [
    "llm = Groq(model=\"meta-llama/llama-4-scout-17b-16e-instruct\")\n",
    "\n",
    "def review_section(section_text, retrieved_instruction):\n",
    "    prompt = f\"\"\"\n",
    "You are reviewing a technical document section.\n",
    "\n",
    "Template Instruction:\n",
    "\"{retrieved_instruction}\"\n",
    "\n",
    "Submitted Section:\n",
    "\"{section_text}\"\n",
    "\n",
    "Task: Provide detailed, constructive feedback and whether the section meets expectations.\n",
    "\"\"\"\n",
    "    response = llm.complete(prompt)\n",
    "    return response.text\n"
   ]
  },
  {
   "cell_type": "code",
   "execution_count": 60,
   "id": "9256142b",
   "metadata": {},
   "outputs": [
    {
     "name": "stderr",
     "output_type": "stream",
     "text": [
      "CropBox missing from /Page, defaulting to MediaBox\n",
      "CropBox missing from /Page, defaulting to MediaBox\n",
      "CropBox missing from /Page, defaulting to MediaBox\n",
      "CropBox missing from /Page, defaulting to MediaBox\n",
      "CropBox missing from /Page, defaulting to MediaBox\n",
      "CropBox missing from /Page, defaulting to MediaBox\n",
      "CropBox missing from /Page, defaulting to MediaBox\n",
      "CropBox missing from /Page, defaulting to MediaBox\n",
      "CropBox missing from /Page, defaulting to MediaBox\n",
      "CropBox missing from /Page, defaulting to MediaBox\n",
      "CropBox missing from /Page, defaulting to MediaBox\n",
      "CropBox missing from /Page, defaulting to MediaBox\n"
     ]
    }
   ],
   "source": [
    "pdf_path = \"Leela Chess Zero and the Human Play.pdf\"\n",
    "submitted_sections = extract_sections_from_pdf(pdf_path)\n",
    "\n",
    "results = []\n",
    "for section_text in submitted_sections:\n",
    "    retrieved_nodes = retriever.retrieve(section_text)\n",
    "    instruction = retrieved_nodes[0].text\n",
    "    section_title = retrieved_nodes[0].metadata.get(\"title\", \"Unknown\")\n",
    "    feedback = review_section(section_text, instruction)\n",
    "\n",
    "    results.append({\n",
    "        \"section\": section_title,\n",
    "        \"instruction\": instruction,\n",
    "        \"text\": section_text,\n",
    "        \"feedback\": feedback\n",
    "    })"
   ]
  },
  {
   "cell_type": "code",
   "execution_count": 61,
   "id": "41ee68cb",
   "metadata": {},
   "outputs": [
    {
     "name": "stdout",
     "output_type": "stream",
     "text": [
      "Section: Technical Architecture\n",
      "Instruction: Provide an overview of the system's technical design including components and their interactions.\n",
      "Feedback:\n",
      "**Overview of Technical Design and Feedback**\n",
      "\n",
      "The provided section appears to be a research paper discussing the comparison between Leela Chess Zero (Lc0), a neural network-based chess engine, and elite human chess players. The study aims to explore how artificial intelligence, reinforcement learning, and neural network-based systems are reshaping our understanding of chess.\n",
      "\n",
      "**Technical Design Components and Interactions**\n",
      "\n",
      "The paper discusses the following technical design components:\n",
      "\n",
      "1. **Lc0**: A neural network-based chess engine that uses reinforcement learning and self-play to improve its performance.\n",
      "2. **AlphaZero**: A reinforcement learning-based chess engine that utilizes neural networks to analyze and solve chess positions.\n",
      "3. **Stockfish**: A deterministic, rule-based engine that relies on handcrafted evaluation functions and alpha-beta pruning.\n",
      "\n",
      "The interactions between these components are discussed in terms of their strengths and weaknesses, particularly in endgame prediction accuracy and opening selection.\n",
      "\n",
      "**Feedback and Suggestions**\n",
      "\n",
      "The section generally meets the expectations outlined in the template instruction. However, there are some areas that require improvement:\n",
      "\n",
      "1. **Clarity and Organization**: The writing is clear, but the organization of some sections, such as the introduction and related work, could be improved for better flow and coherence.\n",
      "2. **Technical Depth**: While the paper provides a good overview of the technical design components, it could benefit from more in-depth technical discussions, particularly in sections like the methodology and results.\n",
      "3. **Visualizations and Tables**: The inclusion of tables and figures is helpful, but some of them, such as Table I and Fig. 1, could be more clearly explained or referenced in the text.\n",
      "4. **Limitations and Future Work**: The discussion of limitations and future directions is a good start, but it could be more comprehensive, highlighting specific areas for improvement and potential research questions.\n",
      "\n",
      "**Specific Comments**\n",
      "\n",
      "* The abstract could be more concise and focused on the main contributions of the study.\n",
      "* The introduction could benefit from a clearer definition of the research question and objectives.\n",
      "* The related work section could be more comprehensive, discussing other relevant studies and their findings.\n",
      "* The methodology section could provide more details on the data collection and processing procedures.\n",
      "* The results section could include more discussion on the implications of the findings and their significance.\n",
      "\n",
      "**Conclusion**\n",
      "\n",
      "The section provides a good overview of the technical design components and their interactions. However, it could benefit from more in-depth technical discussions, improved organization, and clarity. With some revisions to address these suggestions, the section could better meet the expectations outlined in the template instruction. \n",
      "\n",
      "**Rating: 7/10** \n",
      "\n",
      "The section demonstrates a good understanding of the technical design components and their interactions. However, it requires some revisions to improve clarity, organization, and technical depth. With these revisions, the section has the potential to score higher. \n",
      "\n",
      "**Recommendations for Future Improvements**\n",
      "\n",
      "* Provide more in-depth technical discussions, particularly in sections like methodology and results.\n",
      "* Improve the organization and clarity of some sections, such as the introduction and related work.\n",
      "* Include more visualizations and tables to support the findings and make the paper more engaging.\n",
      "* Discuss the limitations and future work more comprehensively, highlighting specific areas for improvement and potential research questions. \n",
      "\n",
      "By addressing these recommendations, the authors can strengthen their paper and provide a more comprehensive and engaging discussion of the technical design components and their interactions.\n",
      "\n",
      "================================================================================\n"
     ]
    }
   ],
   "source": [
    "for res in results:\n",
    "    print(f\"Section: {res['section']}\")\n",
    "    print(f\"Instruction: {res['instruction']}\")\n",
    "    print(f\"Feedback:\\n{res['feedback']}\\n\")\n",
    "    print(\"=\"*80)\n"
   ]
  }
 ],
 "metadata": {
  "kernelspec": {
   "display_name": "venv",
   "language": "python",
   "name": "python3"
  },
  "language_info": {
   "codemirror_mode": {
    "name": "ipython",
    "version": 3
   },
   "file_extension": ".py",
   "mimetype": "text/x-python",
   "name": "python",
   "nbconvert_exporter": "python",
   "pygments_lexer": "ipython3",
   "version": "3.12.10"
  }
 },
 "nbformat": 4,
 "nbformat_minor": 5
}
